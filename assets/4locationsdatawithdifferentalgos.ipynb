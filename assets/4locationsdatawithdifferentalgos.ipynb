{
 "cells": [
  {
   "cell_type": "code",
   "execution_count": 289,
   "metadata": {},
   "outputs": [],
   "source": [
    "import pandas as pd\n",
    "\n",
    "dataset=pd.read_csv('accuratedata.csv')"
   ]
  },
  {
   "cell_type": "code",
   "execution_count": 290,
   "metadata": {},
   "outputs": [
    {
     "name": "stdout",
     "output_type": "stream",
     "text": [
      "          Location  BHK  Furnishing  Sq.ft  Old(years)  Floor  Price\n",
      "0     Bommanahalli    3           1   3000           1      3  28000\n",
      "1     Bommanahalli    3           1   1650          10      0  18000\n",
      "2       Whitefield    2           0   1000           5      3  16400\n",
      "3       Whitefield    3           0   1600           1      9  27000\n",
      "4       Whitefield    2           1   1200           5      1  20000\n",
      "...            ...  ...         ...    ...         ...    ...    ...\n",
      "1995       MG road    3           1   1460           1      2  25000\n",
      "1996       MG road    3           0   2100           1      7  28000\n",
      "1997       MG road    2           0   1033           5      0  16500\n",
      "1998       MG road    3           0   1500          10      1  22000\n",
      "1999       MG road    3           1   1768           5     11  30000\n",
      "\n",
      "[2000 rows x 7 columns]\n"
     ]
    },
    {
     "data": {
      "text/plain": [
       "Location      0\n",
       "BHK           0\n",
       "Furnishing    0\n",
       "Sq.ft         0\n",
       "Old(years)    0\n",
       "Floor         0\n",
       "Price         0\n",
       "dtype: int64"
      ]
     },
     "execution_count": 290,
     "metadata": {},
     "output_type": "execute_result"
    }
   ],
   "source": [
    "print(dataset)\n",
    "dataset.isnull().sum()"
   ]
  },
  {
   "cell_type": "code",
   "execution_count": 291,
   "metadata": {
    "scrolled": true
   },
   "outputs": [
    {
     "name": "stdout",
     "output_type": "stream",
     "text": [
      "      Location  BHK  Furnishing  Sq.ft  Old(years)  Floor  Price\n",
      "0            0    3           1   3000           1      3  28000\n",
      "1            0    3           1   1650          10      0  18000\n",
      "2            3    2           0   1000           5      3  16400\n",
      "3            3    3           0   1600           1      9  27000\n",
      "4            3    2           1   1200           5      1  20000\n",
      "...        ...  ...         ...    ...         ...    ...    ...\n",
      "1995         2    3           1   1460           1      2  25000\n",
      "1996         2    3           0   2100           1      7  28000\n",
      "1997         2    2           0   1033           5      0  16500\n",
      "1998         2    3           0   1500          10      1  22000\n",
      "1999         2    3           1   1768           5     11  30000\n",
      "\n",
      "[2000 rows x 7 columns]\n"
     ]
    }
   ],
   "source": [
    "from sklearn.preprocessing import LabelEncoder\n",
    "le=LabelEncoder()\n",
    "\n",
    "dataset.Location=le.fit_transform(dataset.Location)\n",
    "print(dataset)"
   ]
  },
  {
   "cell_type": "code",
   "execution_count": 292,
   "metadata": {},
   "outputs": [
    {
     "name": "stdout",
     "output_type": "stream",
     "text": [
      "[[1.00e+00 0.00e+00 0.00e+00 ... 1.00e+00 3.00e+00 2.80e+04]\n",
      " [1.00e+00 0.00e+00 0.00e+00 ... 1.00e+01 0.00e+00 1.80e+04]\n",
      " [0.00e+00 0.00e+00 0.00e+00 ... 5.00e+00 3.00e+00 1.64e+04]\n",
      " ...\n",
      " [0.00e+00 0.00e+00 1.00e+00 ... 5.00e+00 0.00e+00 1.65e+04]\n",
      " [0.00e+00 0.00e+00 1.00e+00 ... 1.00e+01 1.00e+00 2.20e+04]\n",
      " [0.00e+00 0.00e+00 1.00e+00 ... 5.00e+00 1.10e+01 3.00e+04]]\n"
     ]
    }
   ],
   "source": [
    "from sklearn.preprocessing import OneHotEncoder\n",
    "from sklearn.compose import ColumnTransformer\n",
    "\n",
    "ct=ColumnTransformer([(\"Location\",OneHotEncoder(),[0])],remainder = 'passthrough')\n",
    "dataset=ct.fit_transform(dataset)\n",
    "print(dataset)"
   ]
  },
  {
   "cell_type": "code",
   "execution_count": 293,
   "metadata": {},
   "outputs": [
    {
     "name": "stdout",
     "output_type": "stream",
     "text": [
      "[[0.000e+00 0.000e+00 0.000e+00 ... 3.000e+03 1.000e+00 3.000e+00]\n",
      " [0.000e+00 0.000e+00 0.000e+00 ... 1.650e+03 1.000e+01 0.000e+00]\n",
      " [0.000e+00 0.000e+00 1.000e+00 ... 1.000e+03 5.000e+00 3.000e+00]\n",
      " ...\n",
      " [0.000e+00 1.000e+00 0.000e+00 ... 1.033e+03 5.000e+00 0.000e+00]\n",
      " [0.000e+00 1.000e+00 0.000e+00 ... 1.500e+03 1.000e+01 1.000e+00]\n",
      " [0.000e+00 1.000e+00 0.000e+00 ... 1.768e+03 5.000e+00 1.100e+01]]\n",
      "[28000. 18000. 16400. ... 16500. 22000. 30000.]\n"
     ]
    }
   ],
   "source": [
    "X = dataset[:,1:-1]\n",
    "y = dataset[:,-1]\n",
    "\n",
    "print(X)\n",
    "print(y)"
   ]
  },
  {
   "cell_type": "code",
   "execution_count": 294,
   "metadata": {},
   "outputs": [],
   "source": [
    "\n",
    "from sklearn.model_selection import train_test_split\n",
    "X_train,X_test,y_train,y_test=train_test_split(X,y,test_size=0.2,random_state=0)\n"
   ]
  },
  {
   "cell_type": "code",
   "execution_count": 295,
   "metadata": {},
   "outputs": [
    {
     "name": "stdout",
     "output_type": "stream",
     "text": [
      "MULTI-LINEAR REGRESSION\n",
      "TRAINING DATA ACCURACY  - 0.8078020951982811\n",
      "TESTING DATA ACCURACY - 0.8145512875932547\n"
     ]
    }
   ],
   "source": [
    "\n",
    "\n",
    "from sklearn.linear_model import LinearRegression\n",
    "regressor = LinearRegression()  \n",
    "regressor.fit(X_train, y_train)\n",
    "\n",
    "\n",
    "print(\"MULTI-LINEAR REGRESSION\")\n",
    "\n",
    "\n",
    "print(\"TRAINING DATA ACCURACY  - \",end=\"\")\n",
    "print(regressor.score(X_train,y_train))\n",
    "\n",
    "\n",
    "print(\"TESTING DATA ACCURACY - \",end=\"\")\n",
    "print(regressor.score(X_test,y_test))\n"
   ]
  },
  {
   "cell_type": "code",
   "execution_count": 296,
   "metadata": {},
   "outputs": [
    {
     "name": "stdout",
     "output_type": "stream",
     "text": [
      "SVR\n",
      "TRAINING DATA ACCURACY - -0.02573355724962667\n",
      "TESTING DATA ACCURACY - -0.03807598597439732\n"
     ]
    }
   ],
   "source": [
    "from sklearn.svm import SVR\n",
    "model = SVR() \n",
    "model.fit(X_train, y_train)\n",
    "\n",
    "print(\"SVR\")\n",
    "\n",
    "print(\"TRAINING DATA ACCURACY - \",end=\"\")\n",
    "print(model.score(X_train,y_train))\n",
    "\n",
    "print(\"TESTING DATA ACCURACY - \",end=\"\")\n",
    "print(model.score(X_test,y_test))\n"
   ]
  },
  {
   "cell_type": "code",
   "execution_count": 297,
   "metadata": {},
   "outputs": [
    {
     "name": "stdout",
     "output_type": "stream",
     "text": [
      "DECISION TREE REGRESSOR\n",
      "TRAINING DATA ACCURACY - 0.9999849137086084\n",
      "TESTING DATA ACCURACY - 0.9887393483383988\n"
     ]
    }
   ],
   "source": [
    "\n",
    "from sklearn.tree import DecisionTreeRegressor\n",
    "model = DecisionTreeRegressor(max_depth = 10, random_state = 14) \n",
    "model.fit(X_train, y_train)\n",
    "\n",
    "\n",
    "print(\"DECISION TREE REGRESSOR\")\n",
    "\n",
    "print(\"TRAINING DATA ACCURACY - \",end=\"\")\n",
    "print(model.score(X_train,y_train))\n",
    "\n",
    "print(\"TESTING DATA ACCURACY - \",end=\"\")\n",
    "print(model.score(X_test,y_test))\n"
   ]
  },
  {
   "cell_type": "code",
   "execution_count": 298,
   "metadata": {},
   "outputs": [
    {
     "name": "stdout",
     "output_type": "stream",
     "text": [
      "RANDOM FOREST REGRESSOR\n",
      "TRAINING DATA ACCURACY - 0.9745306715831943\n",
      "TESTING DATA ACCURACY - 0.9674891775001492\n"
     ]
    }
   ],
   "source": [
    "from sklearn.ensemble import RandomForestRegressor\n",
    "model = RandomForestRegressor(max_depth = 5, random_state = 14)\n",
    "model.fit(X_train, y_train)\n",
    "\n",
    "\n",
    "print(\"RANDOM FOREST REGRESSOR\")\n",
    "\n",
    "print(\"TRAINING DATA ACCURACY - \",end=\"\")\n",
    "print(model.score(X_train,y_train))\n",
    "\n",
    "print(\"TESTING DATA ACCURACY - \",end=\"\")\n",
    "print(model.score(X_test,y_test))\n"
   ]
  },
  {
   "cell_type": "code",
   "execution_count": null,
   "metadata": {},
   "outputs": [],
   "source": []
  }
 ],
 "metadata": {
  "kernelspec": {
   "display_name": "Python 3",
   "language": "python",
   "name": "python3"
  },
  "language_info": {
   "codemirror_mode": {
    "name": "ipython",
    "version": 3
   },
   "file_extension": ".py",
   "mimetype": "text/x-python",
   "name": "python",
   "nbconvert_exporter": "python",
   "pygments_lexer": "ipython3",
   "version": "3.7.6"
  }
 },
 "nbformat": 4,
 "nbformat_minor": 4
}
