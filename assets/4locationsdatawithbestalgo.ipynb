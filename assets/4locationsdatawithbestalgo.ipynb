{
 "cells": [
  {
   "cell_type": "code",
   "execution_count": 33,
   "metadata": {},
   "outputs": [],
   "source": [
    "import pandas as pd\n",
    "import numpy as np\n",
    "\n",
    "\n",
    "dataset=pd.read_csv('cleandataset.csv')"
   ]
  },
  {
   "cell_type": "code",
   "execution_count": 34,
   "metadata": {},
   "outputs": [
    {
     "name": "stdout",
     "output_type": "stream",
     "text": [
      "             Location  BHK  Furnishing  Sq.ft  Old(years)  Floor  Price\n",
      "0        Bommanahalli    3           1   1650          10      0  18000\n",
      "1          Whitefield    2           0   1000           5      3  16400\n",
      "2          Whitefield    3           0   1600           1      9  27000\n",
      "3          Whitefield    2           1   1200           5      1  20000\n",
      "4          Whitefield    3           1   1760           5      8  39500\n",
      "...               ...  ...         ...    ...         ...    ...    ...\n",
      "1994      Indiranagar    3           0   1600           1      2  25000\n",
      "1995  Electronic city    2           0   1250           5      3  23000\n",
      "1996      Indiranagar    3           1   1750           1      2  16000\n",
      "1997  Electronic city    2           0   1150           4      3  17500\n",
      "1998      Indiranagar    1           1   1250           3      2  16500\n",
      "\n",
      "[1999 rows x 7 columns]\n"
     ]
    }
   ],
   "source": [
    "print(dataset)"
   ]
  },
  {
   "cell_type": "code",
   "execution_count": 35,
   "metadata": {},
   "outputs": [
    {
     "name": "stdout",
     "output_type": "stream",
     "text": [
      "      Location  BHK  Furnishing  Sq.ft  Old(years)  Floor  Price\n",
      "0            0    3           1   1650          10      0  18000\n",
      "1            4    2           0   1000           5      3  16400\n",
      "2            4    3           0   1600           1      9  27000\n",
      "3            4    2           1   1200           5      1  20000\n",
      "4            4    3           1   1760           5      8  39500\n",
      "...        ...  ...         ...    ...         ...    ...    ...\n",
      "1994         3    3           0   1600           1      2  25000\n",
      "1995         2    2           0   1250           5      3  23000\n",
      "1996         3    3           1   1750           1      2  16000\n",
      "1997         2    2           0   1150           4      3  17500\n",
      "1998         3    1           1   1250           3      2  16500\n",
      "\n",
      "[1999 rows x 7 columns]\n"
     ]
    }
   ],
   "source": [
    "from sklearn.preprocessing import LabelEncoder\n",
    "le=LabelEncoder()\n",
    "\n",
    "dataset.Location=le.fit_transform(dataset.Location)\n",
    "print(dataset)"
   ]
  },
  {
   "cell_type": "code",
   "execution_count": 36,
   "metadata": {},
   "outputs": [
    {
     "name": "stdout",
     "output_type": "stream",
     "text": [
      "[[1.00e+00 0.00e+00 0.00e+00 ... 1.00e+01 0.00e+00 1.80e+04]\n",
      " [0.00e+00 0.00e+00 0.00e+00 ... 5.00e+00 3.00e+00 1.64e+04]\n",
      " [0.00e+00 0.00e+00 0.00e+00 ... 1.00e+00 9.00e+00 2.70e+04]\n",
      " ...\n",
      " [0.00e+00 0.00e+00 0.00e+00 ... 1.00e+00 2.00e+00 1.60e+04]\n",
      " [0.00e+00 0.00e+00 1.00e+00 ... 4.00e+00 3.00e+00 1.75e+04]\n",
      " [0.00e+00 0.00e+00 0.00e+00 ... 3.00e+00 2.00e+00 1.65e+04]]\n"
     ]
    }
   ],
   "source": [
    "from sklearn.preprocessing import OneHotEncoder\n",
    "from sklearn.compose import ColumnTransformer\n",
    "\n",
    "ct=ColumnTransformer([(\"Location\",OneHotEncoder(),[0])],remainder = 'passthrough')\n",
    "dataset=ct.fit_transform(dataset)\n",
    "print(dataset)"
   ]
  },
  {
   "cell_type": "code",
   "execution_count": 37,
   "metadata": {},
   "outputs": [
    {
     "name": "stdout",
     "output_type": "stream",
     "text": [
      "[[0.00e+00 0.00e+00 0.00e+00 ... 1.65e+03 1.00e+01 0.00e+00]\n",
      " [0.00e+00 0.00e+00 0.00e+00 ... 1.00e+03 5.00e+00 3.00e+00]\n",
      " [0.00e+00 0.00e+00 0.00e+00 ... 1.60e+03 1.00e+00 9.00e+00]\n",
      " ...\n",
      " [0.00e+00 0.00e+00 1.00e+00 ... 1.75e+03 1.00e+00 2.00e+00]\n",
      " [0.00e+00 1.00e+00 0.00e+00 ... 1.15e+03 4.00e+00 3.00e+00]\n",
      " [0.00e+00 0.00e+00 1.00e+00 ... 1.25e+03 3.00e+00 2.00e+00]]\n",
      "[18000. 16400. 27000. ... 16000. 17500. 16500.]\n"
     ]
    }
   ],
   "source": [
    "X = dataset[:,1:-1]\n",
    "y = dataset[:,-1]\n",
    "\n",
    "print(X)\n",
    "print(y)\n"
   ]
  },
  {
   "cell_type": "code",
   "execution_count": 38,
   "metadata": {},
   "outputs": [],
   "source": [
    "\n",
    "from sklearn.model_selection import train_test_split\n",
    "X_train,X_test,y_train,y_test=train_test_split(X,y,test_size=0.2,random_state=0)\n"
   ]
  },
  {
   "cell_type": "code",
   "execution_count": 39,
   "metadata": {},
   "outputs": [
    {
     "name": "stdout",
     "output_type": "stream",
     "text": [
      "RANDOM FOREST REGRESSOR\n",
      "TRAINING DATA ACCURACY - 0.7558810102563441\n",
      "TESTING DATA ACCURACY - 0.7113398911588872\n"
     ]
    }
   ],
   "source": [
    "from sklearn.ensemble import RandomForestRegressor\n",
    "model = RandomForestRegressor(max_depth = 5, random_state = 14)\n",
    "model.fit(X_train, y_train)\n",
    "\n",
    "\n",
    "print(\"RANDOM FOREST REGRESSOR\")\n",
    "\n",
    "print(\"TRAINING DATA ACCURACY - \",end=\"\")\n",
    "print(model.score(X_train,y_train))\n",
    "\n",
    "print(\"TESTING DATA ACCURACY - \",end=\"\")\n",
    "print(model.score(X_test,y_test))\n"
   ]
  },
  {
   "cell_type": "code",
   "execution_count": null,
   "metadata": {},
   "outputs": [],
   "source": []
  }
 ],
 "metadata": {
  "kernelspec": {
   "display_name": "Python 3",
   "language": "python",
   "name": "python3"
  },
  "language_info": {
   "codemirror_mode": {
    "name": "ipython",
    "version": 3
   },
   "file_extension": ".py",
   "mimetype": "text/x-python",
   "name": "python",
   "nbconvert_exporter": "python",
   "pygments_lexer": "ipython3",
   "version": "3.7.6"
  }
 },
 "nbformat": 4,
 "nbformat_minor": 4
}
