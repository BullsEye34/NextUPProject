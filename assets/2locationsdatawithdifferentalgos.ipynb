{
 "cells": [
  {
   "cell_type": "code",
   "execution_count": 17,
   "metadata": {},
   "outputs": [
    {
     "data": {
      "text/plain": [
       "False"
      ]
     },
     "execution_count": 17,
     "metadata": {},
     "output_type": "execute_result"
    }
   ],
   "source": [
    "import pandas as pd\n",
    "import numpy as np\n",
    "\n",
    "\n",
    "dataset=pd.read_csv('house_price.csv') #Bangalore dataset and has 1000 entries\n",
    "dataset.isnull().values.any()  #to check null values"
   ]
  },
  {
   "cell_type": "code",
   "execution_count": 18,
   "metadata": {},
   "outputs": [
    {
     "name": "stdout",
     "output_type": "stream",
     "text": [
      "     Unnamed: 0      Location  BHK  Furnishing  Sq.ft  Old(years)  Floor  \\\n",
      "0            37  Bommanahalli    3           1   3000           1      3   \n",
      "1            43  Bommanahalli    3           1   1650          10      0   \n",
      "2            12    Whitefield    2           0   1000           5      3   \n",
      "3             8    Whitefield    3           0   1600           1      9   \n",
      "4             9    Whitefield    2           1   1200           5      1   \n",
      "..          ...           ...  ...         ...    ...         ...    ...   \n",
      "995          48  Bommanahalli    3           1   1460           1      2   \n",
      "996           0    Whitefield    3           0   2100           1      7   \n",
      "997          42  Bommanahalli    2           0   1033           5      0   \n",
      "998          39  Bommanahalli    3           0   1500          10      1   \n",
      "999           3    Whitefield    3           1   1768           5     11   \n",
      "\n",
      "     Price  \n",
      "0    28000  \n",
      "1    18000  \n",
      "2    16400  \n",
      "3    27000  \n",
      "4    20000  \n",
      "..     ...  \n",
      "995  25000  \n",
      "996  28000  \n",
      "997  16500  \n",
      "998  22000  \n",
      "999  30000  \n",
      "\n",
      "[1000 rows x 8 columns]\n"
     ]
    }
   ],
   "source": [
    "print(dataset) "
   ]
  },
  {
   "cell_type": "code",
   "execution_count": 19,
   "metadata": {},
   "outputs": [
    {
     "name": "stdout",
     "output_type": "stream",
     "text": [
      "         Location  BHK  Furnishing  Sq.ft  Old(years)  Floor  Price\n",
      "0    Bommanahalli    3           1   3000           1      3  28000\n",
      "1    Bommanahalli    3           1   1650          10      0  18000\n",
      "2      Whitefield    2           0   1000           5      3  16400\n",
      "3      Whitefield    3           0   1600           1      9  27000\n",
      "4      Whitefield    2           1   1200           5      1  20000\n",
      "..            ...  ...         ...    ...         ...    ...    ...\n",
      "995  Bommanahalli    3           1   1460           1      2  25000\n",
      "996    Whitefield    3           0   2100           1      7  28000\n",
      "997  Bommanahalli    2           0   1033           5      0  16500\n",
      "998  Bommanahalli    3           0   1500          10      1  22000\n",
      "999    Whitefield    3           1   1768           5     11  30000\n",
      "\n",
      "[1000 rows x 7 columns]\n"
     ]
    }
   ],
   "source": [
    "dataset=dataset.drop(dataset.columns[[0]],axis=1)\n",
    "print(dataset)                      #locaton has only two fields i.e.,Bommanahalli and whitefield"
   ]
  },
  {
   "cell_type": "code",
   "execution_count": 20,
   "metadata": {
    "scrolled": true
   },
   "outputs": [
    {
     "name": "stdout",
     "output_type": "stream",
     "text": [
      "     Location  BHK  Furnishing  Sq.ft  Old(years)  Floor  Price\n",
      "0           0    3           1   3000           1      3  28000\n",
      "1           0    3           1   1650          10      0  18000\n",
      "2           1    2           0   1000           5      3  16400\n",
      "3           1    3           0   1600           1      9  27000\n",
      "4           1    2           1   1200           5      1  20000\n",
      "..        ...  ...         ...    ...         ...    ...    ...\n",
      "995         0    3           1   1460           1      2  25000\n",
      "996         1    3           0   2100           1      7  28000\n",
      "997         0    2           0   1033           5      0  16500\n",
      "998         0    3           0   1500          10      1  22000\n",
      "999         1    3           1   1768           5     11  30000\n",
      "\n",
      "[1000 rows x 7 columns]\n"
     ]
    }
   ],
   "source": [
    "from sklearn.preprocessing import LabelEncoder\n",
    "le=LabelEncoder()\n",
    "\n",
    "dataset.Location=le.fit_transform(dataset.Location)\n",
    "print(dataset)"
   ]
  },
  {
   "cell_type": "code",
   "execution_count": 21,
   "metadata": {},
   "outputs": [
    {
     "name": "stdout",
     "output_type": "stream",
     "text": [
      "[[1.00e+00 0.00e+00 3.00e+00 ... 1.00e+00 3.00e+00 2.80e+04]\n",
      " [1.00e+00 0.00e+00 3.00e+00 ... 1.00e+01 0.00e+00 1.80e+04]\n",
      " [0.00e+00 1.00e+00 2.00e+00 ... 5.00e+00 3.00e+00 1.64e+04]\n",
      " ...\n",
      " [1.00e+00 0.00e+00 2.00e+00 ... 5.00e+00 0.00e+00 1.65e+04]\n",
      " [1.00e+00 0.00e+00 3.00e+00 ... 1.00e+01 1.00e+00 2.20e+04]\n",
      " [0.00e+00 1.00e+00 3.00e+00 ... 5.00e+00 1.10e+01 3.00e+04]]\n"
     ]
    }
   ],
   "source": [
    "from sklearn.preprocessing import OneHotEncoder\n",
    "from sklearn.compose import ColumnTransformer\n",
    "\n",
    "ct=ColumnTransformer([(\"Location\",OneHotEncoder(),[0])],remainder = 'passthrough')\n",
    "dataset=ct.fit_transform(dataset)\n",
    "print(dataset)"
   ]
  },
  {
   "cell_type": "code",
   "execution_count": 22,
   "metadata": {},
   "outputs": [
    {
     "name": "stdout",
     "output_type": "stream",
     "text": [
      "[[0.000e+00 3.000e+00 1.000e+00 3.000e+03 1.000e+00 3.000e+00]\n",
      " [0.000e+00 3.000e+00 1.000e+00 1.650e+03 1.000e+01 0.000e+00]\n",
      " [1.000e+00 2.000e+00 0.000e+00 1.000e+03 5.000e+00 3.000e+00]\n",
      " ...\n",
      " [0.000e+00 2.000e+00 0.000e+00 1.033e+03 5.000e+00 0.000e+00]\n",
      " [0.000e+00 3.000e+00 0.000e+00 1.500e+03 1.000e+01 1.000e+00]\n",
      " [1.000e+00 3.000e+00 1.000e+00 1.768e+03 5.000e+00 1.100e+01]]\n",
      "[28000. 18000. 16400. 27000. 20000. 39500. 35000. 42000. 28000. 35000.\n",
      " 21000. 16400. 14000. 22000. 16000. 14000. 45000. 28000. 23000. 45000.\n",
      " 39500. 16500. 16000. 21000. 18000. 39000. 26000. 26000. 15500. 20000.\n",
      " 15500. 20000. 35000. 17000. 15500. 20000. 14000. 35000. 21000. 28000.\n",
      " 28000. 27000. 24000. 17000. 15500. 16500. 27000. 15500. 14000. 30000.\n",
      " 16000. 25000. 20000. 30000. 39000. 24000. 20000. 18000. 16400. 19000.\n",
      " 35000. 22000. 15500. 23000. 42000. 28000. 39000. 14000. 15500. 19500.\n",
      " 26000. 14000. 19000. 14000. 22000. 35000. 20000. 30000. 22000. 26000.\n",
      " 22000. 11000. 28000. 26000. 20000. 27000. 20000. 19500. 33000. 26000.\n",
      " 42000. 15500. 26000. 14000. 14000. 16000. 33000. 14000. 20000. 24000.\n",
      " 26000. 21000. 20000. 17000. 30000. 28000. 17000. 16000. 25000. 16000.\n",
      " 26000. 16400. 11000. 25000. 39500. 14000. 17000. 27000. 39500. 16400.\n",
      " 18000. 45000. 15500. 22000. 22000. 14000. 22000. 39000. 25000. 23000.\n",
      " 20000. 17000. 33000. 26000. 28000. 14000. 24000. 33000. 16000. 45000.\n",
      " 20000. 16400. 21000. 15500. 15500. 24000. 23000. 16000. 26000. 18000.\n",
      " 16000. 22000. 19500. 33000. 20000. 15500. 23000. 35000. 16000. 26000.\n",
      " 14000. 22000. 25000. 42000. 35000. 28000. 16500. 45000. 25000. 35000.\n",
      " 28000. 17000. 20000. 16000. 45000. 33000. 20000. 14000. 25000. 22000.\n",
      " 20000. 26000. 14000. 20000. 18000. 17000. 45000. 18000. 16000. 17000.\n",
      " 42000. 24000. 20000. 26000. 14000. 35000. 22000. 28000. 25000. 22000.\n",
      " 17000. 11000. 20000. 20000. 15500. 17000. 22000. 18000. 22000. 26000.\n",
      " 35000. 16000. 16500. 22000. 30000. 26000. 18000. 14000. 28000. 21000.\n",
      " 39500. 25000. 21000. 16000. 26000. 45000. 26000. 25000. 20000. 16000.\n",
      " 23000. 19000. 16000. 15500. 33000. 27000. 22000. 25000. 20000. 27000.\n",
      " 45000. 17000. 42000. 15500. 28000. 18000. 26000. 24000. 20000. 16500.\n",
      " 45000. 18000. 42000. 15500. 11000. 18000. 26000. 19000. 18000. 35000.\n",
      " 14000. 25000. 15500. 14000. 19500. 22000. 22000. 20000. 26000. 30000.\n",
      " 24000. 26000. 28000. 15500. 20000. 15500. 22000. 35000. 42000. 20000.\n",
      " 26000. 20000. 16500. 33000. 26000. 24000. 19500. 15500. 28000. 39000.\n",
      " 28000. 18000. 28000. 22000. 25000. 28000. 16000. 35000. 20000. 15500.\n",
      " 33000. 17000. 16000. 14000. 20000. 25000. 25000. 18000. 15500. 28000.\n",
      " 35000. 35000. 26000. 20000. 25000. 16000. 15500. 33000. 39000. 26000.\n",
      " 18000. 25000. 14000. 30000. 24000. 35000. 14000. 42000. 14000. 18000.\n",
      " 17000. 42000. 14000. 45000. 25000. 14000. 21000. 18000. 28000. 35000.\n",
      " 11000. 16400. 16400. 19000. 16400. 14000. 26000. 22000. 18000. 16400.\n",
      " 20000. 11000. 25000. 35000. 19500. 16000. 18000. 19000. 35000. 20000.\n",
      " 14000. 11000. 18000. 21000. 23000. 15500. 20000. 19000. 45000. 15500.\n",
      " 22000. 28000. 35000. 19500. 30000. 16000. 16400. 22000. 20000. 26000.\n",
      " 15500. 25000. 16000. 17000. 22000. 26000. 35000. 26000. 16000. 16500.\n",
      " 19000. 20000. 15500. 24000. 22000. 21000. 16400. 23000. 16500. 39500.\n",
      " 15500. 22000. 25000. 35000. 15500. 16500. 45000. 25000. 15500. 28000.\n",
      " 26000. 25000. 21000. 22000. 22000. 14000. 35000. 11000. 27000. 16000.\n",
      " 26000. 25000. 17000. 15500. 22000. 22000. 22000. 23000. 16000. 20000.\n",
      " 14000. 22000. 14000. 22000. 25000. 28000. 26000. 19500. 16000. 18000.\n",
      " 39500. 16500. 19000. 22000. 25000. 35000. 16000. 28000. 15500. 22000.\n",
      " 22000. 16500. 39500. 35000. 16000. 20000. 18000. 22000. 26000. 39500.\n",
      " 25000. 20000. 14000. 11000. 20000. 20000. 28000. 35000. 16000. 16000.\n",
      " 22000. 23000. 11000. 16000. 28000. 20000. 15500. 14000. 14000. 25000.\n",
      " 35000. 22000. 21000. 39500. 18000. 22000. 15500. 27000. 22000. 25000.\n",
      " 15500. 26000. 26000. 16000. 28000. 22000. 16400. 28000. 16000. 33000.\n",
      " 16000. 15500. 39500. 35000. 28000. 35000. 16500. 35000. 18000. 26000.\n",
      " 28000. 33000. 27000. 25000. 26000. 16400. 14000. 17000. 35000. 39000.\n",
      " 24000. 11000. 39000. 30000. 16400. 26000. 16400. 20000. 20000. 42000.\n",
      " 22000. 33000. 16400. 23000. 15500. 35000. 35000. 19000. 20000. 18000.\n",
      " 18000. 19000. 18000. 25000. 18000. 24000. 42000. 25000. 26000. 17000.\n",
      " 16000. 39000. 22000. 30000. 19500. 19500. 16500. 18000. 23000. 20000.\n",
      " 20000. 25000. 28000. 35000. 20000. 11000. 27000. 22000. 35000. 35000.\n",
      " 14000. 18000. 28000. 15500. 18000. 16000. 11000. 17000. 15500. 18000.\n",
      " 14000. 20000. 30000. 30000. 30000. 16000. 25000. 35000. 16000. 28000.\n",
      " 28000. 28000. 21000. 23000. 18000. 22000. 16000. 16000. 33000. 20000.\n",
      " 14000. 21000. 23000. 22000. 21000. 22000. 16000. 21000. 22000. 19000.\n",
      " 11000. 16500. 16400. 28000. 14000. 11000. 14000. 26000. 20000. 16400.\n",
      " 20000. 20000. 15500. 35000. 35000. 11000. 19000. 15500. 35000. 16400.\n",
      " 22000. 35000. 20000. 23000. 21000. 21000. 23000. 19000. 20000. 19500.\n",
      " 26000. 21000. 22000. 18000. 35000. 42000. 14000. 25000. 16000. 26000.\n",
      " 11000. 18000. 26000. 42000. 16000. 24000. 35000. 39500. 28000. 21000.\n",
      " 21000. 42000. 19500. 35000. 22000. 16500. 35000. 22000. 22000. 23000.\n",
      " 22000. 18000. 35000. 28000. 18000. 24000. 20000. 28000. 25000. 16000.\n",
      " 23000. 14000. 18000. 22000. 19000. 20000. 21000. 25000. 24000. 35000.\n",
      " 19500. 15500. 25000. 39000. 30000. 25000. 23000. 16000. 39500. 39500.\n",
      " 16400. 39000. 22000. 28000. 14000. 22000. 14000. 14000. 16000. 14000.\n",
      " 19500. 39000. 35000. 22000. 16400. 22000. 20000. 25000. 16000. 14000.\n",
      " 16000. 15500. 14000. 15500. 16000. 21000. 17000. 20000. 25000. 11000.\n",
      " 20000. 45000. 16000. 21000. 19000. 20000. 20000. 16000. 39500. 25000.\n",
      " 19000. 26000. 30000. 20000. 33000. 20000. 16000. 35000. 28000. 28000.\n",
      " 14000. 27000. 18000. 18000. 24000. 35000. 20000. 20000. 15500. 24000.\n",
      " 25000. 11000. 14000. 25000. 39000. 20000. 22000. 24000. 20000. 16500.\n",
      " 14000. 20000. 22000. 16000. 16000. 21000. 19000. 14000. 17000. 30000.\n",
      " 16000. 42000. 21000. 26000. 15500. 26000. 20000. 23000. 22000. 19500.\n",
      " 15500. 20000. 20000. 14000. 26000. 15500. 45000. 22000. 14000. 39000.\n",
      " 20000. 28000. 19000. 25000. 33000. 25000. 16000. 20000. 28000. 18000.\n",
      " 22000. 16000. 19000. 15500. 14000. 35000. 16000. 26000. 35000. 16500.\n",
      " 22000. 19000. 28000. 20000. 26000. 16000. 22000. 26000. 33000. 45000.\n",
      " 28000. 35000. 15500. 30000. 18000. 18000. 25000. 35000. 20000. 33000.\n",
      " 18000. 14000. 11000. 16000. 27000. 39000. 22000. 20000. 15500. 16000.\n",
      " 14000. 16000. 18000. 17000. 18000. 25000. 22000. 16400. 19000. 23000.\n",
      " 28000. 25000. 16400. 15500. 25000. 14000. 28000. 21000. 18000. 15500.\n",
      " 18000. 28000. 42000. 16000. 22000. 16000. 20000. 20000. 19000. 45000.\n",
      " 20000. 21000. 35000. 14000. 26000. 15500. 28000. 16500. 15500. 25000.\n",
      " 16000. 21000. 14000. 20000. 16400. 25000. 23000. 17000. 17000. 24000.\n",
      " 18000. 19000. 26000. 22000. 19500. 42000. 28000. 20000. 20000. 22000.\n",
      " 19500. 14000. 21000. 20000. 15500. 28000. 14000. 25000. 20000. 18000.\n",
      " 15500. 35000. 21000. 16000. 15500. 23000. 20000. 28000. 23000. 19000.\n",
      " 14000. 25000. 23000. 14000. 18000. 11000. 20000. 39000. 17000. 26000.\n",
      " 19000. 28000. 28000. 23000. 19000. 21000. 45000. 18000. 15500. 39000.\n",
      " 14000. 26000. 11000. 16000. 27000. 22000. 16400. 14000. 20000. 39500.\n",
      " 27000. 33000. 26000. 24000. 14000. 23000. 23000. 35000. 15500. 16500.\n",
      " 14000. 25000. 20000. 16500. 17000. 23000. 26000. 22000. 19000. 16000.\n",
      " 18000. 15500. 22000. 20000. 27000. 21000. 35000. 26000. 35000. 21000.\n",
      " 27000. 14000. 25000. 26000. 17000. 25000. 28000. 16500. 22000. 30000.]\n",
      "0.8398805798861535\n"
     ]
    }
   ],
   "source": [
    "X = dataset[:,1:-1]\n",
    "y = dataset[:,-1]\n",
    "\n",
    "# X = dataset.drop(['Price'], axis=1)\n",
    "# y = dataset['Price']\n",
    "\n",
    "\n",
    "print(X)\n",
    "print(y)\n",
    "\n",
    "from sklearn.linear_model import LinearRegression\n",
    "regressor = LinearRegression() \n",
    "regressor.fit(X, y)\n",
    "print(regressor.score(X,y))"
   ]
  },
  {
   "cell_type": "code",
   "execution_count": 23,
   "metadata": {},
   "outputs": [],
   "source": [
    "from sklearn.model_selection import train_test_split\n",
    "X_train,X_test,y_train,y_test=train_test_split(X,y,test_size=0.2,random_state=0)"
   ]
  },
  {
   "cell_type": "code",
   "execution_count": 24,
   "metadata": {},
   "outputs": [
    {
     "name": "stdout",
     "output_type": "stream",
     "text": [
      "USING MULTI-LINEAR REGRESSION\n",
      "\n",
      "Testing error - 2513.5172646459564\n",
      "training error - 2452.635887153532\n"
     ]
    }
   ],
   "source": [
    "from sklearn.linear_model import LinearRegression\n",
    "regressor = LinearRegression()  \n",
    "regressor.fit(X_train, y_train)\n",
    "\n",
    "from sklearn.metrics import mean_absolute_error\n",
    "\n",
    "y_pred = regressor.predict(X_test)\n",
    "\n",
    "error = mean_absolute_error(y_test, y_pred)\n",
    "\n",
    "\n",
    "print(\"USING MULTI-LINEAR REGRESSION\")\n",
    "print()\n",
    "\n",
    "print(\"Testing error - \",end='')\n",
    "print(error)\n",
    "\n",
    "y_pred = regressor.predict(X_train)\n",
    "error = mean_absolute_error(y_train,y_pred)\n",
    "print(\"training error - \",end='')\n",
    "print(error)"
   ]
  },
  {
   "cell_type": "code",
   "execution_count": 25,
   "metadata": {},
   "outputs": [
    {
     "name": "stdout",
     "output_type": "stream",
     "text": [
      "USING MULTI-LINEAR REGRESSION\n",
      "\n",
      "Testing error - 2513.5172646459564\n",
      "training error - 2452.635887153532\n"
     ]
    }
   ],
   "source": [
    "from sklearn.metrics import mean_absolute_error\n",
    "\n",
    "y_pred = regressor.predict(X_test)\n",
    "# y_pred=y_pred.reshape(-1,1)\n",
    "# y_train=y_train.reshape(-1,1)\n",
    "\n",
    "# print(regressor.score(y_train,y_pred))\n",
    "error = mean_absolute_error(y_test, y_pred)\n",
    "\n",
    "\n",
    "print(\"USING MULTI-LINEAR REGRESSION\")\n",
    "print()\n",
    "\n",
    "print(\"Testing error - \",end='')\n",
    "print(error)\n",
    "\n",
    "y_pred = regressor.predict(X_train)\n",
    "error = mean_absolute_error(y_train,y_pred)\n",
    "print(\"training error - \",end='')\n",
    "print(error)"
   ]
  },
  {
   "cell_type": "code",
   "execution_count": 26,
   "metadata": {},
   "outputs": [
    {
     "name": "stdout",
     "output_type": "stream",
     "text": [
      "[36448.47776372]\n",
      "[18806.24627809]\n"
     ]
    }
   ],
   "source": [
    "#example\n",
    "\n",
    "Ypred=regressor.predict([[0,3,1,3000,1,3]])\n",
    "                        # [location,no_of_bedrooms,furnishing,sq_foot,old(years),floor]\n",
    "\n",
    "    \n",
    "print(Ypred)            # Price \n",
    "\n",
    "\n",
    "#example2\n",
    "Ypred=regressor.predict([[1,2,0,1060,1,1]])\n",
    "                        # [location,no_of_bedrooms,furnishing,sq_foot,old(years),floor]\n",
    "\n",
    "    \n",
    "print(Ypred) "
   ]
  },
  {
   "cell_type": "code",
   "execution_count": 27,
   "metadata": {},
   "outputs": [
    {
     "name": "stdout",
     "output_type": "stream",
     "text": [
      "USING SVM \n",
      "\n",
      "Testing error - 6333.62575336172\n",
      "training error - 5767.727248484664\n"
     ]
    }
   ],
   "source": [
    "from sklearn.svm import SVR\n",
    "model = SVR() \n",
    "model.fit(X_train, y_train)\n",
    "\n",
    "\n",
    "y_pred = model.predict(X_test)\n",
    "from sklearn.metrics import mean_absolute_error\n",
    "\n",
    "print(\"USING SVM \")\n",
    "print()\n",
    "\n",
    "print(\"Testing error - \",end='')\n",
    "error = mean_absolute_error(y_test, y_pred)\n",
    "\n",
    "print(error)\n",
    "y_pred = model.predict(X_train)\n",
    "\n",
    "\n",
    "error = mean_absolute_error(y_train, y_pred)\n",
    "print(\"training error -\",end=\" \")\n",
    "print(error)"
   ]
  },
  {
   "cell_type": "code",
   "execution_count": 28,
   "metadata": {},
   "outputs": [
    {
     "name": "stdout",
     "output_type": "stream",
     "text": [
      "USING DECISION TREE REGRESSOR\n",
      "\n",
      "OVER FITTING\n",
      "\n",
      "Testing error\n",
      "0.0\n",
      "training error\n",
      "0.0\n"
     ]
    }
   ],
   "source": [
    "from sklearn.tree import DecisionTreeRegressor\n",
    "model = DecisionTreeRegressor(max_depth = 10, random_state = 14) #hyper-paramenter (tunable) max_leaf_nodes = 20\n",
    "model.fit(X_train, y_train)\n",
    "\n",
    "y_pred = model.predict(X_test)\n",
    "from sklearn.metrics import mean_absolute_error\n",
    "\n",
    "\n",
    "print(\"USING DECISION TREE REGRESSOR\")\n",
    "print()\n",
    "\n",
    "print(\"OVER FITTING\")\n",
    "print()\n",
    "\n",
    "error = mean_absolute_error(y_test, y_pred)\n",
    "print(\"Testing error\")\n",
    "print(error)\n",
    "y_pred = model.predict(X_train)\n",
    "\n",
    "\n",
    "error = mean_absolute_error(y_train, y_pred)\n",
    "print(\"training error\")\n",
    "print(error)"
   ]
  },
  {
   "cell_type": "code",
   "execution_count": 29,
   "metadata": {},
   "outputs": [
    {
     "name": "stdout",
     "output_type": "stream",
     "text": [
      "USING RANDOM FOREST REGRESSOR\n",
      "\n",
      "Testing error\n",
      "645.1948926244279\n",
      "training error\n",
      "560.3968410380627\n"
     ]
    }
   ],
   "source": [
    "from sklearn.ensemble import RandomForestRegressor\n",
    "model = RandomForestRegressor(max_depth = 5, random_state = 14)\n",
    "model.fit(X_train, y_train)\n",
    "\n",
    "y_pred = model.predict(X_test)\n",
    "from sklearn.metrics import mean_absolute_error\n",
    "\n",
    "print(\"USING RANDOM FOREST REGRESSOR\")\n",
    "print()\n",
    "\n",
    "error = mean_absolute_error(y_test, y_pred)\n",
    "print(\"Testing error\")\n",
    "print(error)\n",
    "\n",
    "# y_train.reshape(-1,1)\n",
    "# y_pred.reshape(-1,1)\n",
    "\n",
    "\n",
    "\n",
    "y_pred = model.predict(X_train)\n",
    "\n",
    "\n",
    "error = mean_absolute_error(y_train, y_pred)\n",
    "from sklearn.metrics import accuracy_score\n",
    "\n",
    "\n",
    "print(\"training error\")\n",
    "print(error)"
   ]
  },
  {
   "cell_type": "code",
   "execution_count": 30,
   "metadata": {},
   "outputs": [
    {
     "name": "stdout",
     "output_type": "stream",
     "text": [
      "[28000.]\n",
      "[17079.05538284]\n"
     ]
    }
   ],
   "source": [
    "#example1\n",
    "\n",
    "Ypred=model.predict([[0,3,1,3000,1,3]])\n",
    "                        # [location,no_of_bedrooms,furnishing,sq_foot,old(years),floor]\n",
    "\n",
    "    \n",
    "print(Ypred)            # Price \n",
    "\n",
    "\n",
    "#example2\n",
    "Ypred=model.predict([[1,2,0,1060,1,1]])\n",
    "                        # [location,no_of_bedrooms,furnishing,sq_foot,old(years),floor]\n",
    "\n",
    "    \n",
    "print(Ypred)            # Price "
   ]
  },
  {
   "cell_type": "code",
   "execution_count": null,
   "metadata": {},
   "outputs": [],
   "source": []
  }
 ],
 "metadata": {
  "kernelspec": {
   "display_name": "Python 3",
   "language": "python",
   "name": "python3"
  },
  "language_info": {
   "codemirror_mode": {
    "name": "ipython",
    "version": 3
   },
   "file_extension": ".py",
   "mimetype": "text/x-python",
   "name": "python",
   "nbconvert_exporter": "python",
   "pygments_lexer": "ipython3",
   "version": "3.7.6"
  }
 },
 "nbformat": 4,
 "nbformat_minor": 4
}
